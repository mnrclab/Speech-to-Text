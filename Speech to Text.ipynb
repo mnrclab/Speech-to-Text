{
 "cells": [
  {
   "cell_type": "code",
   "execution_count": 1,
   "id": "75143d05-8988-4ea6-a341-482551298367",
   "metadata": {},
   "outputs": [],
   "source": [
    "import speech_recognition as sr"
   ]
  },
  {
   "cell_type": "code",
   "execution_count": 2,
   "id": "c2b7f609-6b60-44a5-ad60-de499428a651",
   "metadata": {},
   "outputs": [
    {
     "name": "stdout",
     "output_type": "stream",
     "text": [
      "Silahkan mulai bicara\n",
      "waktu habis\n",
      "123 tes tes tes 123\n"
     ]
    }
   ],
   "source": [
    "engine = sr.Recognizer()\n",
    "mic = sr.Microphone()\n",
    "hasil = \"\"\n",
    "engine.pause_treshold = 20\n",
    "\n",
    "with mic as source:\n",
    "    print('Silahkan mulai bicara')\n",
    "    rekaman = engine.listen(source)\n",
    "    print('waktu habis')\n",
    "    \n",
    "    try:\n",
    "        hasil = engine.recognize_google(rekaman, language = \"id-ID\")\n",
    "        print(hasil)\n",
    "    except engine.UnknownValueError:\n",
    "        print(\"Maaf tidak dideteksi, mohon coba lagi\")\n",
    "    except Exception as e:\n",
    "        print(e)"
   ]
  },
  {
   "cell_type": "code",
   "execution_count": null,
   "id": "16ce91c4-46ef-44ad-a2bf-1c1e6db82b02",
   "metadata": {},
   "outputs": [],
   "source": [
    "text_file = open(\"Hasil.txt\", \"w\")\n",
    "text_file.write(hasil)\n",
    "text_file.close()"
   ]
  },
  {
   "cell_type": "markdown",
   "id": "dfc75d4b-69f0-4bcf-afad-f77de49784f7",
   "metadata": {},
   "source": [
    "<br>"
   ]
  },
  {
   "cell_type": "markdown",
   "id": "f999b65d-674d-41fa-bf0c-f0576bb9359e",
   "metadata": {},
   "source": [
    "<br>"
   ]
  },
  {
   "cell_type": "code",
   "execution_count": 3,
   "id": "e0c18ee9-b074-459f-9b35-63bc3e1ebc9c",
   "metadata": {},
   "outputs": [
    {
     "name": "stdout",
     "output_type": "stream",
     "text": [
      "Converting Audio To Text ..... \n",
      "Converted Audio Is : \n",
      "tes 123 tes tes tes 123\n"
     ]
    }
   ],
   "source": [
    "def main():\n",
    "    sound = \"test.wav\"\n",
    "    r = sr.Recognizer()\n",
    "    r.pause_treshold = 20\n",
    "\n",
    "    with sr.AudioFile(sound) as source:\n",
    "        r.adjust_for_ambient_noise(source)\n",
    "        print(\"Converting Audio To Text ..... \")\n",
    "        audio = r.listen(source)\n",
    " \n",
    "    try:\n",
    "        print(\"Converted Audio Is : \\n\" + r.recognize_google(audio, language = \"id-ID\"))\n",
    " \n",
    "    except Exception as e:\n",
    "        print(\"Error {} : \".format(e) )\n",
    " \n",
    "if __name__ == \"__main__\":\n",
    "    main()"
   ]
  },
  {
   "cell_type": "markdown",
   "id": "ef238efb-987d-4628-b0c3-8ab08e8be116",
   "metadata": {},
   "source": [
    "<br>"
   ]
  },
  {
   "cell_type": "markdown",
   "id": "bba17ec8-d1ae-4793-a39b-955925827c7c",
   "metadata": {},
   "source": [
    "<br>"
   ]
  }
 ],
 "metadata": {
  "kernelspec": {
   "display_name": "Python 3",
   "language": "python",
   "name": "python3"
  },
  "language_info": {
   "codemirror_mode": {
    "name": "ipython",
    "version": 3
   },
   "file_extension": ".py",
   "mimetype": "text/x-python",
   "name": "python",
   "nbconvert_exporter": "python",
   "pygments_lexer": "ipython3",
   "version": "3.8.7"
  }
 },
 "nbformat": 4,
 "nbformat_minor": 5
}
